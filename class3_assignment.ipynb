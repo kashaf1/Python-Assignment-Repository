{
 "cells": [
  {
   "cell_type": "code",
   "execution_count": 12,
   "metadata": {},
   "outputs": [
    {
     "name": "stdout",
     "output_type": "stream",
     "text": [
      "*************CALCULATOR IS HERE*******************\n",
      "Enter the First Value: 6\n",
      "Enter the second Value: 4\n",
      "Enter a Operator: *\n",
      "24 answer\n"
     ]
    }
   ],
   "source": [
    "print(\"*************CALCULATOR IS HERE*******************\")\n",
    "val1 = int(input('Enter the First Value: '))\n",
    "val2 =int(input('Enter the second Value: '))\n",
    "operator = input('Enter a Operator: ')\n",
    "\n",
    "if operator== '+':\n",
    "    val=val1+val2\n",
    "    print(val,'answer')\n",
    "elif operator== '-':\n",
    "    val= val1-val2\n",
    "    print(val,'answer')\n",
    "elif operator=='*':\n",
    "    val= val1*val2\n",
    "    print(val,'answer')\n",
    "elif operator=='/':\n",
    "    val= val1/val2\n",
    "    print(val,'answer')\n",
    "elif operator=='**':\n",
    "    val= val1**val2\n",
    "    print(val,'answer')\n",
    "else :\n",
    "    print('Enter correct operator ')"
   ]
  },
  {
   "cell_type": "code",
   "execution_count": 17,
   "metadata": {},
   "outputs": [
    {
     "name": "stdout",
     "output_type": "stream",
     "text": [
      "Enter any Value: 30\n",
      "number is not presnt in the list\n",
      "number is not presnt in the list\n",
      "number is present in the list\n"
     ]
    }
   ],
   "source": [
    "number =[10,20,30,40,50]\n",
    "inp=int(input('Enter any Value: '))\n",
    "for a in number:\n",
    "    if inp == a:\n",
    "        \n",
    "        print('Number is present in the list')\n",
    "        break\n",
    "    else:\n",
    "        print('Number is not presnt in the list')"
   ]
  },
  {
   "cell_type": "code",
   "execution_count": 2,
   "metadata": {},
   "outputs": [
    {
     "name": "stdout",
     "output_type": "stream",
     "text": [
      "{1: 'hyderabad', 2: 'karachi', 3: 'lahore', 4: 'islamabad', 5: 'peshawar'}\n"
     ]
    }
   ],
   "source": [
    "cities_name={\n",
    "    1:'hyderabad',\n",
    "    2:'karachi',\n",
    "    3:'lahore',\n",
    "    4:'islamabad'\n",
    "}\n",
    "cities_name[5]='peshawar'\n",
    "print(cities_name)"
   ]
  },
  {
   "cell_type": "code",
   "execution_count": 5,
   "metadata": {},
   "outputs": [
    {
     "name": "stdout",
     "output_type": "stream",
     "text": [
      "Total sum is : 1000\n"
     ]
    }
   ],
   "source": [
    "cities_name={\n",
    "    'hyderabad ':400,\n",
    "    'karachi'   :300,\n",
    "    'lahore'    :200,\n",
    "    'islamabad' :100\n",
    "}\n",
    "\n",
    "print('Total sum is :',sum(cities_name.values()))\n"
   ]
  },
  {
   "cell_type": "code",
   "execution_count": 10,
   "metadata": {},
   "outputs": [
    {
     "name": "stdout",
     "output_type": "stream",
     "text": [
      "Duplicate elements in given list: \n",
      "2\n",
      "5\n",
      "6\n"
     ]
    }
   ],
   "source": [
    "list1 = [1, 2, 3, 5, 6, 7, 5, 2, 6];     \n",
    "     \n",
    "print(\"Duplicate elements in given list: \");    \n",
    "    \n",
    "for i in range(0, len(list1)):    \n",
    "    for j in range(i+1, len(list1)):    \n",
    "         if(list1[i] == list1[j]):    \n",
    "            print(list1[j])   \n",
    "    "
   ]
  },
  {
   "cell_type": "code",
   "execution_count": 11,
   "metadata": {},
   "outputs": [
    {
     "name": "stdout",
     "output_type": "stream",
     "text": [
      "karachi found\n"
     ]
    }
   ],
   "source": [
    "cities_name={\n",
    "    'hyderabad ':400,\n",
    "    'karachi'   :300,\n",
    "    'lahore'    :200,\n",
    "    'islamabad' :100   \n",
    " }\n",
    "\n",
    "if 'karachi' in cities_name:\n",
    "    print('karachi found')"
   ]
  },
  {
   "cell_type": "code",
   "execution_count": null,
   "metadata": {},
   "outputs": [],
   "source": []
  }
 ],
 "metadata": {
  "kernelspec": {
   "display_name": "Python 3",
   "language": "python",
   "name": "python3"
  },
  "language_info": {
   "codemirror_mode": {
    "name": "ipython",
    "version": 3
   },
   "file_extension": ".py",
   "mimetype": "text/x-python",
   "name": "python",
   "nbconvert_exporter": "python",
   "pygments_lexer": "ipython3",
   "version": "3.7.4"
  }
 },
 "nbformat": 4,
 "nbformat_minor": 2
}
